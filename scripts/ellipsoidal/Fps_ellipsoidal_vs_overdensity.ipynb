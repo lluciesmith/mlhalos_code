{
 "cells": [
  {
   "cell_type": "code",
   "execution_count": 148,
   "metadata": {
    "collapsed": false
   },
   "outputs": [],
   "source": [
    "import matplotlib.pyplot as plt\n",
    "import sys\n",
    "sys.path.append(\"/Users/lls/Documents/mlhalos_code/\")\n",
    "import pynbody\n",
    "import numpy as np\n",
    "from mlhalos import parameters\n",
    "from mlhalos import distinct_colours\n",
    "from mlhalos import window\n",
    "from scripts.ellipsoidal import predictions as pr\n",
    "from scripts.EPS import EPS_predictions as EPS_pr\n",
    "%matplotlib inline"
   ]
  },
  {
   "cell_type": "code",
   "execution_count": 25,
   "metadata": {
    "collapsed": true
   },
   "outputs": [],
   "source": [
    "def get_fraction_FPs_vs_overdensity(FPs_ids_density, Fps_ids_den_and_shear, halo_number, initial_overdensity, \n",
    "                                    f=None, h=None, ids_all=None, num_overdensities = 11):\n",
    "    pynbody.analysis.halo.center(f[h[halo_number].properties['mostboundID']], vel=False)\n",
    "    f.wrap()\n",
    "    pynbody.analysis.halo.center(h[halo_number], vel=False)\n",
    "\n",
    "    r_initial = pynbody.analysis.halo.virial_radius(h[halo_number], overden=initial_overdensity)\n",
    "    overden_initial = initial_overdensity\n",
    "\n",
    "    r_FPs_den = f[FPs_ids_density]['r']\n",
    "    r_FPs_den_ell = f[Fps_ids_den_and_shear]['r']\n",
    "    n_den = len(np.where(r_FPs_den <= r_initial)[0])\n",
    "    n_den_shear = len(np.where(r_FPs_den_ell <= r_initial)[0])\n",
    "\n",
    "    # new\n",
    "    r_all = f[ids_all]['r']\n",
    "    n_all = len(np.where(r_all <= r_initial)[0])\n",
    "    \n",
    "    overden = [overden_initial]\n",
    "    density_fraction = [n_den/n_all]\n",
    "    den_shear_fraction = [n_den_shear/n_all]\n",
    "\n",
    "    den_mean = f.properties[\"omegaM0\"] * pynbody.analysis.cosmology.rho_crit(f, z=0)\n",
    "    \n",
    "    for i in range(num_overdensities - 1):\n",
    "        r_2 = r_initial * 1.8\n",
    "        \n",
    "        mass = f[pynbody.filt.Sphere(r_2)]['mass'].sum()\n",
    "        V = (4/3)*np.pi*(r_2**3)\n",
    "        density = mass / V\n",
    "        overden_2 = density/den_mean\n",
    "        overden.append(overden_2)\n",
    "\n",
    "        n_all = len(np.where(r_all <= r_2)[0])\n",
    "        num_FPs_den = len(np.where(r_FPs_den <= r_2)[0])\n",
    "        density_fraction.append(num_FPs_den/n_all)\n",
    "        num_FPs_den_ell = len(np.where(r_FPs_den_ell <= r_2)[0])\n",
    "        den_shear_fraction.append(num_FPs_den_ell/n_all)\n",
    "\n",
    "        r_initial = r_2\n",
    "    \n",
    "    return np.array(overden), np.array(density_fraction), np.array(den_shear_fraction)"
   ]
  },
  {
   "cell_type": "code",
   "execution_count": 26,
   "metadata": {
    "collapsed": false
   },
   "outputs": [],
   "source": [
    "def get_num_FPs_vs_overdensity_for_two_cases(Fps_ids_den, Fps_ids_den_shear, ids_tested, halos, num_overdensities=11, f=None, h=None):\n",
    "    overden_all = np.zeros((len(halos), num_overdensities))\n",
    "    n_tot_all_den = np.zeros((len(halos), num_overdensities))\n",
    "    n_tot_all_den_shear = np.zeros((len(halos), num_overdensities))\n",
    "    halo_mass = np.zeros((len(halos), ))\n",
    "\n",
    "    for j in range(len(halos)):\n",
    "        halo_number = halos[j]\n",
    "        print(\"Doing halo \" + str(halo_number) + \" -number \" + str(j))\n",
    "        halo_mass[j] = \"%.3g\" % h[halo_number]['mass'].sum()\n",
    "        overden_first = 200\n",
    "\n",
    "        overden_all[j], n_tot_all_den[j], n_tot_all_den_shear[j] = get_fraction_FPs_vs_overdensity(Fps_ids_den, \n",
    "                                                                                                   Fps_ids_den_shear, \n",
    "                                                                                                   halo_number, overden_first, \n",
    "                                                                                                   f=f, h=h, ids_all=ids_tested, \n",
    "                                                                                                   num_overdensities = num_overdensities)\n",
    "        print(\"Done halo \" + str(j))\n",
    "    return overden_all, n_tot_all_den, n_tot_all_den_shear, halo_mass"
   ]
  },
  {
   "cell_type": "code",
   "execution_count": 145,
   "metadata": {
    "collapsed": false
   },
   "outputs": [],
   "source": [
    "# Bootstrap method to get errorbars\n",
    "\n",
    "def do_bootstrap_method(n_EPS, n_ellips, bootstrap_number):\n",
    "    mean_bootstrap_EPS = np.zeros((bootstrap_number, 11))\n",
    "    median_bootstrap_EPS = np.zeros((bootstrap_number, 11))\n",
    "\n",
    "    mean_bootstrap_ellipsoidal = np.zeros((bootstrap_number, 11))\n",
    "    median_bootstrap_ellipsoidal = np.zeros((bootstrap_number, 11))\n",
    "\n",
    "    for i in range(bootstrap_number):\n",
    "        random_subset = np.random.choice(len(n_tot_all_EPS), int(len(n_tot_all_EPS)*0.6))\n",
    "        n_rand_EPS = n_EPS[random_subset]\n",
    "        n_rand_ellipsoidal = n_ellips[random_subset]\n",
    "\n",
    "        median_bootstrap_EPS[i] = np.median(n_rand_EPS, axis=0)\n",
    "        mean_bootstrap_EPS[i] = np.mean(n_rand_EPS, axis=0)\n",
    "\n",
    "        median_bootstrap_ellipsoidal[i] = np.median(n_rand_ellipsoidal, axis=0)\n",
    "        mean_bootstrap_ellipsoidal[i] = np.mean(n_rand_ellipsoidal, axis=0)\n",
    "    \n",
    "    return mean_bootstrap_EPS, median_bootstrap_EPS, mean_bootstrap_ellipsoidal, median_bootstrap_ellipsoidal"
   ]
  },
  {
   "cell_type": "code",
   "execution_count": 5,
   "metadata": {
    "collapsed": false
   },
   "outputs": [],
   "source": [
    "path = \"/Users/lls/Documents/CODE/stored_files/shear/classification/\"\n",
    "ids_tested = np.load(path + \"tested_ids.npy\")\n",
    "\n",
    "den_f = np.load(\"/Users/lls/Documents/CODE/stored_files/shear/shear_quantities/features/density_features.npy\")\n",
    "den_f_tested = den_f[ids_tested]\n",
    "del den_f"
   ]
  },
  {
   "cell_type": "code",
   "execution_count": 7,
   "metadata": {
    "collapsed": false
   },
   "outputs": [],
   "source": [
    "ic = parameters.InitialConditionsParameters(path=\"/Users/lls/Documents/CODE/\")\n",
    "w = window.WindowParameters(initial_parameters=ic, num_filtering_scales=50)\n",
    "\n",
    "f = ic.final_snapshot\n",
    "f.physical_units(\"kpc\")\n",
    "h = ic.halo"
   ]
  },
  {
   "cell_type": "code",
   "execution_count": 8,
   "metadata": {
    "collapsed": true
   },
   "outputs": [
    {
     "name": "stderr",
     "output_type": "stream",
     "text": [
      "/Users/lls/anaconda/envs/py35/lib/python3.5/site-packages/pynbody/analysis/hmf.py:95: RuntimeWarning: Using the default power-spectrum spectrum which assumes ns=0.96 and WMAP7+H0+BAO transfer function.\n",
      "  \"Using the default power-spectrum spectrum which assumes ns=0.96 and WMAP7+H0+BAO transfer function.\", RuntimeWarning)\n",
      "/Users/lls/anaconda/envs/py35/lib/python3.5/site-packages/pynbody/simdict.py:92: RuntimeWarning: Assuming default value for property 'sigma8'=8.29e-01\n",
      "  name, value), RuntimeWarning)\n",
      "/Users/lls/anaconda/envs/py35/lib/python3.5/site-packages/pynbody/analysis/hmf.py:168: RuntimeWarning: Power spectrum does not extend to low enough k; using power-law extrapolation (this is likely to be fine)\n",
      "  \"Power spectrum does not extend to low enough k; using power-law extrapolation (this is likely to be fine)\", RuntimeWarning)\n"
     ]
    },
    {
     "ename": "NameError",
     "evalue": "name 'testing_density_features' is not defined",
     "traceback": [
      "\u001b[0;31m---------------------------------------------------------------------------\u001b[0m",
      "\u001b[0;31mNameError\u001b[0m                                 Traceback (most recent call last)",
      "\u001b[0;32m<ipython-input-8-af04bd81382f>\u001b[0m in \u001b[0;36m<module>\u001b[0;34m()\u001b[0m\n\u001b[1;32m      1\u001b[0m ellipsoidal_label = pr.ellipsoidal_collapse_predicted_label(den_f_tested[:, :-1], initial_parameters=ic, \n\u001b[1;32m      2\u001b[0m                                                             window_parameters=w, beta=0.485, gamma=0.615, a=0.75)\n\u001b[0;32m----> 3\u001b[0;31m \u001b[0mtrue_label\u001b[0m \u001b[0;34m=\u001b[0m \u001b[0mtesting_density_features\u001b[0m\u001b[0;34m[\u001b[0m\u001b[0;34m:\u001b[0m\u001b[0;34m,\u001b[0m \u001b[0;34m-\u001b[0m\u001b[0;36m1\u001b[0m\u001b[0;34m]\u001b[0m\u001b[0;34m\u001b[0m\u001b[0m\n\u001b[0m",
      "\u001b[0;31mNameError\u001b[0m: name 'testing_density_features' is not defined"
     ],
     "output_type": "error"
    }
   ],
   "source": [
    "ellipsoidal_label = pr.ellipsoidal_collapse_predicted_label(den_f_tested[:, :-1], initial_parameters=ic, \n",
    "                                                            window_parameters=w, beta=0.485, gamma=0.615, a=0.75)\n",
    "true_label = den_f_tested[:, -1]"
   ]
  },
  {
   "cell_type": "code",
   "execution_count": 9,
   "metadata": {
    "collapsed": true
   },
   "outputs": [],
   "source": [
    "true_label = den_f_tested[:, -1]"
   ]
  },
  {
   "cell_type": "code",
   "execution_count": 10,
   "metadata": {
    "collapsed": false
   },
   "outputs": [
    {
     "data": {
      "text/plain": [
       "(0.17028380634390652, 0.7282897714360641)"
      ]
     },
     "execution_count": 10,
     "metadata": {},
     "output_type": "execute_result"
    }
   ],
   "source": [
    "pr.get_fpr_tpr_ellipsoidal_prediction(ellipsoidal_label, true_label)"
   ]
  },
  {
   "cell_type": "code",
   "execution_count": 35,
   "metadata": {
    "collapsed": false
   },
   "outputs": [
    {
     "data": {
      "text/plain": [
       "<module 'scripts.ellipsoidal.predictions' from '/Users/lls/Documents/mlhalos_code/scripts/ellipsoidal/predictions.py'>"
      ]
     },
     "execution_count": 35,
     "metadata": {},
     "output_type": "execute_result"
    }
   ],
   "source": [
    "import importlib\n",
    "importlib.reload(pr)"
   ]
  },
  {
   "cell_type": "code",
   "execution_count": 11,
   "metadata": {
    "collapsed": true
   },
   "outputs": [],
   "source": [
    "# Ellipsoidal false positives\n",
    "\n",
    "fpr_indices_ellipsoidal, tpr_indices_ellipsoidal = pr.get_fpr_tpr_indices(ellipsoidal_label, true_label)\n",
    "Fps_ids_ellipsoidal = ids_tested[fpr_indices_ellipsoidal]"
   ]
  },
  {
   "cell_type": "code",
   "execution_count": 12,
   "metadata": {
    "collapsed": true
   },
   "outputs": [
    {
     "ename": "IndexError",
     "evalue": "too many indices for array",
     "traceback": [
      "\u001b[0;31m---------------------------------------------------------------------------\u001b[0m",
      "\u001b[0;31mIndexError\u001b[0m                                Traceback (most recent call last)",
      "\u001b[0;32m<ipython-input-12-9fc61db1140f>\u001b[0m in \u001b[0;36m<module>\u001b[0;34m()\u001b[0m\n\u001b[1;32m      3\u001b[0m \u001b[0mEPS_predicted_label\u001b[0m \u001b[0;34m=\u001b[0m \u001b[0mEPS_pr\u001b[0m\u001b[0;34m.\u001b[0m\u001b[0mEPS_label\u001b[0m\u001b[0;34m(\u001b[0m\u001b[0mden_f_tested\u001b[0m\u001b[0;34m[\u001b[0m\u001b[0;34m:\u001b[0m\u001b[0;34m,\u001b[0m \u001b[0;34m:\u001b[0m\u001b[0;34m-\u001b[0m\u001b[0;36m1\u001b[0m\u001b[0;34m]\u001b[0m\u001b[0;34m)\u001b[0m\u001b[0;34m\u001b[0m\u001b[0m\n\u001b[1;32m      4\u001b[0m \u001b[0mfpr_indices_EPS\u001b[0m \u001b[0;34m=\u001b[0m \u001b[0mpr\u001b[0m\u001b[0;34m.\u001b[0m\u001b[0mget_fpr_tpr_indices\u001b[0m\u001b[0;34m(\u001b[0m\u001b[0mEPS_predicted_label\u001b[0m\u001b[0;34m,\u001b[0m \u001b[0mtrue_label\u001b[0m\u001b[0;34m)\u001b[0m\u001b[0;34m\u001b[0m\u001b[0m\n\u001b[0;32m----> 5\u001b[0;31m \u001b[0mFps_ids_EPS\u001b[0m \u001b[0;34m=\u001b[0m \u001b[0mids_tested\u001b[0m\u001b[0;34m[\u001b[0m\u001b[0mfpr_indices_EPS\u001b[0m\u001b[0;34m]\u001b[0m\u001b[0;34m\u001b[0m\u001b[0m\n\u001b[0m",
      "\u001b[0;31mIndexError\u001b[0m: too many indices for array"
     ],
     "output_type": "error"
    }
   ],
   "source": [
    "# Extended Press-Schechter false positives\n",
    "\n",
    "EPS_predicted_label = EPS_pr.EPS_label(den_f_tested[:, :-1])\n",
    "fpr_indices_EPS, tpr_indices_EPS = pr.get_fpr_tpr_indices(EPS_predicted_label, true_label)"
   ]
  },
  {
   "cell_type": "code",
   "execution_count": 15,
   "metadata": {
    "collapsed": false
   },
   "outputs": [],
   "source": [
    "fpr_indices_EPS, tpr_indices_EPS = pr.get_fpr_tpr_indices(EPS_predicted_label, true_label)\n",
    "Fps_ids_EPS = ids_tested[fpr_indices_EPS]"
   ]
  },
  {
   "cell_type": "code",
   "execution_count": 16,
   "metadata": {
    "collapsed": false
   },
   "outputs": [
    {
     "data": {
      "text/plain": [
       "(0.13391190563075103, 0.67887172680147767)"
      ]
     },
     "execution_count": 16,
     "metadata": {},
     "output_type": "execute_result"
    }
   ],
   "source": [
    "pr.get_fpr_tpr_ellipsoidal_prediction(EPS_predicted_label, true_label)"
   ]
  },
  {
   "cell_type": "code",
   "execution_count": 17,
   "metadata": {
    "collapsed": true
   },
   "outputs": [],
   "source": [
    "high_mass = np.arange(0, 7)\n",
    "mid_mass = np.arange(7, 78)\n",
    "small_mass = np.random.choice(np.arange(78, 400), 100)"
   ]
  },
  {
   "cell_type": "code",
   "execution_count": 18,
   "metadata": {
    "collapsed": true
   },
   "outputs": [],
   "source": [
    "c = distinct_colours.get_distinct(2)"
   ]
  },
  {
   "cell_type": "markdown",
   "metadata": {},
   "source": [
    "# High mass"
   ]
  },
  {
   "cell_type": "code",
   "execution_count": 34,
   "metadata": {
    "collapsed": true
   },
   "outputs": [
    {
     "name": "stdout",
     "output_type": "stream",
     "text": [
      "Doing halo 0 -number 0\n",
      "Done halo 0\n",
      "Doing halo 1 -number 1\n",
      "Done halo 1\n",
      "Doing halo 2 -number 2\n",
      "Done halo 2\n",
      "Doing halo 3 -number 3\n",
      "Done halo 3\n",
      "Doing halo 4 -number 4\n",
      "Done halo 4\n",
      "Doing halo 5 -number 5\n",
      "Done halo 5\n",
      "Doing halo 6 -number 6\n",
      "Done halo 6\n"
     ]
    }
   ],
   "source": [
    "halos = high_mass\n",
    "num_overdensities = 11\n",
    "\n",
    "overden_all = np.zeros((len(halos), num_overdensities))\n",
    "n_tot_all_EPS = np.zeros((len(halos), num_overdensities))\n",
    "n_tot_all_ellipsoidal = np.zeros((len(halos), num_overdensities))\n",
    "halo_mass = np.zeros((len(halos), ))\n",
    "\n",
    "for j in range(len(halos)):\n",
    "    halo_number = halos[j]\n",
    "    print(\"Doing halo \" + str(halo_number) + \" -number \" + str(j))\n",
    "    halo_mass[j] = \"%.3g\" % h[halo_number]['mass'].sum()\n",
    "    overden_first = 200\n",
    "\n",
    "    overden_all[j], n_tot_all_EPS[j], n_tot_all_ellipsoidal[j] = get_fraction_FPs_vs_overdensity(Fps_ids_EPS, \n",
    "                                                                                               Fps_ids_ellipsoidal, \n",
    "                                                                                               halo_number, overden_first, \n",
    "                                                                                               f=f, h=h, ids_all=ids_tested, \n",
    "                                                                                               num_overdensities = num_overdensities)\n",
    "    print(\"Done halo \" + str(j))"
   ]
  },
  {
   "cell_type": "code",
   "execution_count": 122,
   "metadata": {
    "collapsed": false
   },
   "outputs": [],
   "source": [
    "num_bootstrap = 10000000\n",
    "\n",
    "mean_bootstrap_EPS, median_bootstrap_EPS, mean_bootstrap_ellipsoidal, median_bootstrap_ellipsoidal = do_bootstrap_method(n_tot_all_EPS, n_tot_all_ellipsoidal, num_bootstrap)\n",
    "\n",
    "estimate_mean_EPS = np.sum(mean_bootstrap_EPS, axis=0)/num_bootstrap\n",
    "estimate_std_mean_EPS = np.std(mean_bootstrap_EPS, axis=0)\n",
    "\n",
    "estimate_median_EPS = np.sum(median_bootstrap_EPS, axis=0)/num_bootstrap\n",
    "estimate_std_median_EPS = np.std(median_bootstrap_EPS, axis=0)\n",
    "\n",
    "estimate_mean_ellipsoidal = np.sum(mean_bootstrap_ellipsoidal, axis=0)/num_bootstrap\n",
    "estimate_std_mean_ellipsoidal = np.std(mean_bootstrap_ellipsoidal, axis=0)\n",
    "\n",
    "estimate_median_ellipsoidal = np.sum(median_bootstrap_ellipsoidal, axis=0)/num_bootstrap\n",
    "estimate_std_median_ellipsoidal = np.std(median_bootstrap_ellipsoidal, axis=0)"
   ]
  },
  {
   "cell_type": "code",
   "execution_count": 130,
   "metadata": {
    "collapsed": false
   },
   "outputs": [
    {
     "data": {
      "image/png": "[encoded data removed]",
      "text/plain": [
       "<matplotlib.figure.Figure at 0x14181df28>"
      ]
     },
     "metadata": {},
     "output_type": "display_data"
    }
   ],
   "source": [
    "# MEAN AND MEDIAN WITH BOOTSTRAP METHOD\n",
    "\n",
    "ind_i = np.argsort(overden_all[0])[::-1]\n",
    "\n",
    "plt.figure(figsize=(8,6))\n",
    "\n",
    "plt.scatter(overden_all[0, ind_i], estimate_mean_EPS[ind_i], color=c[0], s=20, label=\"EPS\")\n",
    "plt.errorbar(overden_all[0, ind_i], estimate_mean_EPS[ind_i], yerr=estimate_std_mean_EPS[ind_i], color=c[0],ls=\"--\")\n",
    "\n",
    "plt.errorbar(overden_all[0, ind_i], estimate_median_EPS[ind_i],yerr=estimate_std_median_EPS[ind_i], color=c[0])\n",
    "plt.scatter(overden_all[0, ind_i], estimate_median_EPS[ind_i], color=c[0], s=20)\n",
    "\n",
    "plt.scatter(overden_all[0, ind_i], estimate_mean_ellipsoidal[ind_i], color=c[1], s=20,label=\"ellipsoidal\")\n",
    "plt.errorbar(overden_all[0, ind_i], estimate_mean_ellipsoidal[ind_i], yerr=estimate_std_mean_ellipsoidal[ind_i], color=c[1],ls=\"--\")\n",
    "\n",
    "plt.errorbar(overden_all[0, ind_i], estimate_median_ellipsoidal[ind_i], yerr=estimate_std_median_ellipsoidal[ind_i],color=c[1])\n",
    "plt.scatter(overden_all[0, ind_i], estimate_median_ellipsoidal[ind_i], color=c[1], s=20)\n",
    "\n",
    "plt.legend(loc=\"best\", fontsize=16)\n",
    "plt.xlabel(r\"$\\rho / \\rho_M$\")\n",
    "plt.ylabel(r\"$\\mathrm{\\bar{N}_{FPs}} / \\mathrm{N_{tot}}$\")\n",
    "# plt.ylabel(r\"$\\mathrm{N_{FPs}} / \\sum{\\mathrm{N_{FPs}}}$\")\n",
    "# plt.xscale(\"symlog\")\n",
    "plt.xscale(\"log\")\n",
    "\n",
    "plt.axvline(x=200, ls=\"--\", color=\"k\")\n",
    "plt.axvline(x=1, ls=\"--\", color=\"k\")\n",
    "plt.title(\"Mean(dashed) and median(solid) - high mass halos\")\n",
    "\n",
    "plt.savefig(\"/Users/lls/Desktop/EPS_vs_ellipsoidal_high_mass_bootstrap.pdf\")"
   ]
  },
  {
   "cell_type": "code",
   "execution_count": 67,
   "metadata": {
    "collapsed": false
   },
   "outputs": [
    {
     "name": "stdout",
     "output_type": "stream",
     "text": [
      "Distributions are bimodal - mean is not a good measure!\n"
     ]
    },
    {
     "data": {
      "image/png": "[encoded data removed]",
      "text/plain": [
       "<matplotlib.figure.Figure at 0x131e8b7f0>"
      ]
     },
     "metadata": {},
     "output_type": "display_data"
    }
   ],
   "source": [
    "# median curve\n",
    "median_EPS = np.median(n_tot_all_EPS, axis=0)\n",
    "median_ellipsoidal = np.median(n_tot_all_ellipsoidal, axis=0)\n",
    "\n",
    "mean_EPS = np.mean(n_tot_all_EPS, axis=0)\n",
    "mean_ellipsoidal = np.mean(n_tot_all_ellipsoidal, axis=0)\n",
    "\n",
    "ind_i = np.argsort(overden_all[0])[::-1]\n",
    "\n",
    "plt.figure(figsize=(8,6))\n",
    "plt.plot(overden_all[0, ind_i], median_EPS[ind_i], color=c[0], ls=\"-\", label=\"EPS\")\n",
    "plt.scatter(overden_all[0, ind_i], median_EPS[ind_i], color=c[0], s=20, marker=\"^\")\n",
    "plt.plot(overden_all[0, ind_i], mean_EPS[ind_i], color=c[0], ls=\"--\")\n",
    "plt.scatter(overden_all[0, ind_i], mean_EPS[ind_i], color=c[0], s=20, marker=\"^\")\n",
    "\n",
    "plt.plot(overden_all[0, ind_i], median_ellipsoidal[ind_i], color=c[1], label=\"ellipsoidal\")\n",
    "plt.scatter(overden_all[0, ind_i], median_ellipsoidal[ind_i], color=c[1], s=20)\n",
    "plt.plot(overden_all[0, ind_i], mean_ellipsoidal[ind_i], color=c[1], ls=\"--\")\n",
    "plt.scatter(overden_all[0, ind_i], mean_ellipsoidal[ind_i], color=c[1], s=20)\n",
    "\n",
    "plt.legend(loc=\"best\", fontsize=16)\n",
    "plt.xlabel(r\"$\\rho / \\rho_M$\")\n",
    "plt.ylabel(r\"$\\mathrm{\\bar{N}_{FPs}} / \\mathrm{N_{tot}}$\")\n",
    "# plt.ylabel(r\"$\\mathrm{N_{FPs}} / \\sum{\\mathrm{N_{FPs}}}$\")\n",
    "# plt.xscale(\"symlog\")\n",
    "plt.xscale(\"log\")\n",
    "\n",
    "plt.axvline(x=200, ls=\"--\", color=\"k\")\n",
    "plt.axvline(x=1, ls=\"--\", color=\"k\")\n",
    "plt.title(\"Mean(dashed) and median(solid) around high-mass halos\")\n",
    "\n",
    "print(\"Distributions are bimodal - mean is not a good measure!\")"
   ]
  },
  {
   "cell_type": "markdown",
   "metadata": {},
   "source": [
    "# Mid mass"
   ]
  },
  {
   "cell_type": "code",
   "execution_count": 38,
   "metadata": {
    "collapsed": true
   },
   "outputs": [
    {
     "name": "stdout",
     "output_type": "stream",
     "text": [
      "Doing halo 7 -number 0\n",
      "Done halo 0\n",
      "Doing halo 8 -number 1\n",
      "Done halo 1\n",
      "Doing halo 9 -number 2\n",
      "Done halo 2\n",
      "Doing halo 10 -number 3\n",
      "Done halo 3\n",
      "Doing halo 11 -number 4\n",
      "Done halo 4\n",
      "Doing halo 12 -number 5\n",
      "Done halo 5\n",
      "Doing halo 13 -number 6\n",
      "Done halo 6\n",
      "Doing halo 14 -number 7\n",
      "Done halo 7\n",
      "Doing halo 15 -number 8\n",
      "Done halo 8\n",
      "Doing halo 16 -number 9\n",
      "Done halo 9\n",
      "Doing halo 17 -number 10\n",
      "Done halo 10\n",
      "Doing halo 18 -number 11\n",
      "Done halo 11\n",
      "Doing halo 19 -number 12\n",
      "Done halo 12\n",
      "Doing halo 20 -number 13\n",
      "Done halo 13\n",
      "Doing halo 21 -number 14\n",
      "Done halo 14\n",
      "Doing halo 22 -number 15\n",
      "Done halo 15\n",
      "Doing halo 23 -number 16\n",
      "Done halo 16\n",
      "Doing halo 24 -number 17\n",
      "Done halo 17\n",
      "Doing halo 25 -number 18\n",
      "Done halo 18\n",
      "Doing halo 26 -number 19\n",
      "Done halo 19\n",
      "Doing halo 27 -number 20\n",
      "Done halo 20\n",
      "Doing halo 28 -number 21\n",
      "Done halo 21\n",
      "Doing halo 29 -number 22\n",
      "Done halo 22\n",
      "Doing halo 30 -number 23\n",
      "Done halo 23\n",
      "Doing halo 31 -number 24\n",
      "Done halo 24\n",
      "Doing halo 32 -number 25\n",
      "Done halo 25\n",
      "Doing halo 33 -number 26\n",
      "Done halo 26\n",
      "Doing halo 34 -number 27\n",
      "Done halo 27\n",
      "Doing halo 35 -number 28\n",
      "Done halo 28\n",
      "Doing halo 36 -number 29\n",
      "Done halo 29\n",
      "Doing halo 37 -number 30\n",
      "Done halo 30\n",
      "Doing halo 38 -number 31\n",
      "Done halo 31\n",
      "Doing halo 39 -number 32\n",
      "Done halo 32\n",
      "Doing halo 40 -number 33\n",
      "Done halo 33\n",
      "Doing halo 41 -number 34\n",
      "Done halo 34\n",
      "Doing halo 42 -number 35\n",
      "Done halo 35\n",
      "Doing halo 43 -number 36\n",
      "Done halo 36\n",
      "Doing halo 44 -number 37\n",
      "Done halo 37\n",
      "Doing halo 45 -number 38\n",
      "Done halo 38\n",
      "Doing halo 46 -number 39\n",
      "Done halo 39\n",
      "Doing halo 47 -number 40\n",
      "Done halo 40\n",
      "Doing halo 48 -number 41\n",
      "Done halo 41\n",
      "Doing halo 49 -number 42\n",
      "Done halo 42\n",
      "Doing halo 50 -number 43\n",
      "Done halo 43\n",
      "Doing halo 51 -number 44\n",
      "Done halo 44\n",
      "Doing halo 52 -number 45\n",
      "Done halo 45\n",
      "Doing halo 53 -number 46\n",
      "Done halo 46\n",
      "Doing halo 54 -number 47\n",
      "Done halo 47\n",
      "Doing halo 55 -number 48\n",
      "Done halo 48\n",
      "Doing halo 56 -number 49\n",
      "Done halo 49\n",
      "Doing halo 57 -number 50\n",
      "Done halo 50\n",
      "Doing halo 58 -number 51\n",
      "Done halo 51\n",
      "Doing halo 59 -number 52\n",
      "Done halo 52\n",
      "Doing halo 60 -number 53\n",
      "Done halo 53\n",
      "Doing halo 61 -number 54\n",
      "Done halo 54\n",
      "Doing halo 62 -number 55\n",
      "Done halo 55\n",
      "Doing halo 63 -number 56\n",
      "Done halo 56\n",
      "Doing halo 64 -number 57\n",
      "Done halo 57\n",
      "Doing halo 65 -number 58\n",
      "Done halo 58\n",
      "Doing halo 66 -number 59\n",
      "Done halo 59\n",
      "Doing halo 67 -number 60\n",
      "Done halo 60\n",
      "Doing halo 68 -number 61\n",
      "Done halo 61\n",
      "Doing halo 69 -number 62\n",
      "Done halo 62\n",
      "Doing halo 70 -number 63\n",
      "Done halo 63\n",
      "Doing halo 71 -number 64\n",
      "Done halo 64\n",
      "Doing halo 72 -number 65\n",
      "Done halo 65\n",
      "Doing halo 73 -number 66\n",
      "Done halo 66\n",
      "Doing halo 74 -number 67\n",
      "Done halo 67\n",
      "Doing halo 75 -number 68\n",
      "Done halo 68\n",
      "Doing halo 76 -number 69\n",
      "Done halo 69\n",
      "Doing halo 77 -number 70\n",
      "Done halo 70\n"
     ]
    }
   ],
   "source": [
    "halos = mid_mass\n",
    "num_overdensities = 11\n",
    "\n",
    "overden_all_mid = np.zeros((len(halos), num_overdensities))\n",
    "n_tot_all_EPS_mid = np.zeros((len(halos), num_overdensities))\n",
    "n_tot_all_ellipsoidal_mid = np.zeros((len(halos), num_overdensities))\n",
    "halo_mass_mid = np.zeros((len(halos), ))\n",
    "\n",
    "for j in range(len(halos)):\n",
    "    halo_number = halos[j]\n",
    "    print(\"Doing halo \" + str(halo_number) + \" -number \" + str(j))\n",
    "    halo_mass_mid[j] = \"%.3g\" % h[halo_number]['mass'].sum()\n",
    "    overden_first = 200\n",
    "\n",
    "    overden_all_mid[j], n_tot_all_EPS_mid[j], n_tot_all_ellipsoidal_mid[j] = get_fraction_FPs_vs_overdensity(Fps_ids_EPS, \n",
    "                                                                                               Fps_ids_ellipsoidal, \n",
    "                                                                                               halo_number, overden_first, \n",
    "                                                                                               f=f, h=h, ids_all=ids_tested, \n",
    "                                                                                               num_overdensities = num_overdensities)\n",
    "    print(\"Done halo \" + str(j))"
   ]
  },
  {
   "cell_type": "code",
   "execution_count": 134,
   "metadata": {
    "collapsed": false
   },
   "outputs": [
    {
     "name": "stderr",
     "output_type": "stream",
     "text": [
      "/Users/lls/anaconda/envs/py35/lib/python3.5/site-packages/ipykernel/__main__.py:11: DeprecationWarning: using a non-integer number instead of an integer will result in an error in the future\n"
     ]
    }
   ],
   "source": [
    "num_bootstrap = 10000\n",
    "\n",
    "mid_mean_bootstrap_EPS, mid_median_bootstrap_EPS, mid_mean_bootstrap_ellipsoidal, mid_median_bootstrap_ellipsoidal = do_bootstrap_method(n_tot_all_EPS_mid, n_tot_all_ellipsoidal_mid, num_bootstrap)\n",
    "\n",
    "mid_estimate_mean_EPS = np.sum(mid_mean_bootstrap_EPS, axis=0)/num_bootstrap\n",
    "mid_estimate_std_mean_EPS = np.std(mid_mean_bootstrap_EPS, axis=0)\n",
    "\n",
    "mid_estimate_median_EPS = np.sum(mid_median_bootstrap_EPS, axis=0)/num_bootstrap\n",
    "mid_estimate_std_median_EPS = np.std(mid_median_bootstrap_EPS, axis=0)\n",
    "\n",
    "\n",
    "mid_estimate_mean_ellips = np.sum(mid_mean_bootstrap_ellipsoidal, axis=0)/num_bootstrap\n",
    "mid_estimate_std_mean_ellips = np.std(mid_mean_bootstrap_ellipsoidal, axis=0)\n",
    "\n",
    "mid_estimate_median_ellips = np.sum(mid_median_bootstrap_ellipsoidal, axis=0)/num_bootstrap\n",
    "mid_estimate_std_median_ellips = np.std(mid_median_bootstrap_ellipsoidal, axis=0)"
   ]
  },
  {
   "cell_type": "code",
   "execution_count": 136,
   "metadata": {
    "collapsed": false
   },
   "outputs": [
    {
     "data": {
      "image/png": "[encoded data removed]",
      "text/plain": [
       "<matplotlib.figure.Figure at 0x140eb5710>"
      ]
     },
     "metadata": {},
     "output_type": "display_data"
    }
   ],
   "source": [
    "# RESULT AFTER BOOTSTRAP METHOD\n",
    "\n",
    "mid_ind_i = np.argsort(overden_all_mid[0])[::-1]\n",
    "\n",
    "plt.figure(figsize=(8,6))\n",
    "\n",
    "plt.errorbar(overden_all_mid[0, mid_ind_i], mid_estimate_mean_EPS[mid_ind_i], color=c[0], \n",
    "             yerr=mid_estimate_std_mean_EPS[mid_ind_i], ls=\"--\")\n",
    "plt.scatter(overden_all_mid[0, mid_ind_i], mid_estimate_mean_EPS[mid_ind_i], color=c[0], label=\"EPS\")\n",
    "\n",
    "plt.errorbar(overden_all_mid[0, mid_ind_i], mid_estimate_median_EPS[mid_ind_i], \n",
    "             yerr=mid_estimate_std_median_EPS[mid_ind_i], color=c[0])\n",
    "plt.scatter(overden_all_mid[0, mid_ind_i], mid_estimate_median_EPS[mid_ind_i], color=c[0])\n",
    "\n",
    "plt.errorbar(overden_all_mid[0, mid_ind_i], mid_estimate_mean_ellips[mid_ind_i], color=c[1], \n",
    "             yerr=mid_estimate_std_mean_ellips[mid_ind_i], ls=\"--\")\n",
    "plt.scatter(overden_all_mid[0, mid_ind_i], mid_estimate_mean_ellips[mid_ind_i], color=c[1], label=\"ellipsoidal\")\n",
    "\n",
    "plt.errorbar(overden_all_mid[0, mid_ind_i], mid_estimate_median_ellips[mid_ind_i], \n",
    "             yerr=mid_estimate_std_median_ellips[mid_ind_i], color=c[1])\n",
    "plt.scatter(overden_all_mid[0, mid_ind_i], mid_estimate_median_ellips[mid_ind_i], color=c[1])\n",
    "\n",
    "plt.legend(loc=\"best\", fontsize=16)\n",
    "plt.xlabel(r\"$\\rho / \\rho_M$\")\n",
    "plt.ylabel(r\"$\\mathrm{\\bar{N}_{FPs}} / \\mathrm{N_{tot}}$\")\n",
    "plt.xscale(\"log\")\n",
    "\n",
    "plt.axvline(x=200, ls=\"--\", color=\"k\")\n",
    "plt.axvline(x=1, ls=\"--\", color=\"k\")\n",
    "plt.title(\"Mean(dashed) and median(solid) - mid mass halos\")\n",
    "\n",
    "plt.savefig(\"/Users/lls/Desktop/EPS_vs_ellipsoidal_mid_mass_bootstrap.pdf\")"
   ]
  },
  {
   "cell_type": "code",
   "execution_count": 68,
   "metadata": {
    "collapsed": true
   },
   "outputs": [
    {
     "name": "stdout",
     "output_type": "stream",
     "text": [
      "Distributions are bimodal - mean is not a good measure!\n"
     ]
    },
    {
     "data": {
      "image/png": "[encoded data removed]",
      "text/plain": [
       "<matplotlib.figure.Figure at 0x13198e9b0>"
      ]
     },
     "metadata": {},
     "output_type": "display_data"
    }
   ],
   "source": [
    "# median + mean curve\n",
    "\n",
    "median_EPS_mid = np.median(n_tot_all_EPS_mid, axis=0)\n",
    "median_ellipsoidal_mid = np.median(n_tot_all_ellipsoidal_mid, axis=0)\n",
    "\n",
    "mean_EPS_mid = np.mean(n_tot_all_EPS_mid, axis=0)\n",
    "mean_ellipsoidal_mid = np.mean(n_tot_all_ellipsoidal_mid, axis=0)\n",
    "\n",
    "ind_i = np.argsort(overden_all_mid[0])[::-1]\n",
    "\n",
    "plt.figure(figsize=(8,6))\n",
    "plt.plot(overden_all_mid[0, ind_i], median_EPS_mid[ind_i], color=c[0], ls=\"-\", label=\"EPS\")\n",
    "plt.scatter(overden_all_mid[0, ind_i], median_EPS_mid[ind_i], color=c[0], s=20, marker=\"^\")\n",
    "plt.plot(overden_all_mid[0, ind_i], mean_EPS_mid[ind_i], color=c[0], ls=\"--\")\n",
    "plt.scatter(overden_all_mid[0, ind_i], mean_EPS_mid[ind_i], color=c[0], s=20, marker=\"^\")\n",
    "\n",
    "plt.plot(overden_all_mid[0, ind_i], median_ellipsoidal_mid[ind_i], color=c[1], label=\"ellipsoidal\")\n",
    "plt.scatter(overden_all_mid[0, ind_i], median_ellipsoidal_mid[ind_i], color=c[1], s=20)\n",
    "plt.plot(overden_all_mid[0, ind_i], mean_ellipsoidal_mid[ind_i], color=c[1], ls=\"--\")\n",
    "plt.scatter(overden_all_mid[0, ind_i], mean_ellipsoidal_mid[ind_i], color=c[1], s=20)\n",
    "\n",
    "plt.legend(loc=\"best\", fontsize=16)\n",
    "plt.xlabel(r\"$\\rho / \\rho_M$\")\n",
    "plt.ylabel(r\"$\\mathrm{\\bar{N}_{FPs}} / \\mathrm{N_{tot}}$\")\n",
    "# plt.ylabel(r\"$\\mathrm{N_{FPs}} / \\sum{\\mathrm{N_{FPs}}}$\")\n",
    "# plt.xscale(\"symlog\")\n",
    "plt.xscale(\"log\")\n",
    "\n",
    "plt.axvline(x=200, ls=\"--\", color=\"k\")\n",
    "plt.axvline(x=1, ls=\"--\", color=\"k\")\n",
    "plt.title(\"Mean(dashed) and median(solid) around mid-mass halos\")\n",
    "\n",
    "print(\"Distributions are bimodal - mean is not a good measure!\")"
   ]
  },
  {
   "cell_type": "code",
   "execution_count": 58,
   "metadata": {
    "collapsed": false
   },
   "outputs": [
    {
     "data": {
      "text/plain": [
       "0.12278521508022443"
      ]
     },
     "execution_count": 58,
     "metadata": {},
     "output_type": "execute_result"
    },
    {
     "data": {
      "image/png": "[encoded data removed]",
      "text/plain": [
       "<matplotlib.figure.Figure at 0x131f20e10>"
      ]
     },
     "metadata": {},
     "output_type": "display_data"
    }
   ],
   "source": [
    "plt.hist(n_tot_all_EPS_mid[:,3], bins=100)\n",
    "np.median(n_tot_all_EPS_mid[:,3])"
   ]
  },
  {
   "cell_type": "markdown",
   "metadata": {},
   "source": [
    "# Small mass"
   ]
  },
  {
   "cell_type": "code",
   "execution_count": 40,
   "metadata": {
    "collapsed": true
   },
   "outputs": [
    {
     "name": "stdout",
     "output_type": "stream",
     "text": [
      "Doing halo 210 -number 0\n",
      "Done halo 0\n",
      "Doing halo 380 -number 1\n",
      "Done halo 1\n",
      "Doing halo 193 -number 2\n",
      "Done halo 2\n",
      "Doing halo 160 -number 3\n",
      "Done halo 3\n",
      "Doing halo 171 -number 4\n",
      "Done halo 4\n",
      "Doing halo 223 -number 5\n",
      "Done halo 5\n",
      "Doing halo 379 -number 6\n",
      "Done halo 6\n",
      "Doing halo 370 -number 7\n",
      "Done halo 7\n",
      "Doing halo 327 -number 8\n",
      "Done halo 8\n",
      "Doing halo 144 -number 9\n",
      "Done halo 9\n",
      "Doing halo 127 -number 10\n",
      "Done halo 10\n",
      "Doing halo 372 -number 11\n",
      "Done halo 11\n",
      "Doing halo 255 -number 12\n",
      "Done halo 12\n",
      "Doing halo 102 -number 13\n",
      "Done halo 13\n",
      "Doing halo 293 -number 14\n",
      "Done halo 14\n",
      "Doing halo 345 -number 15\n",
      "Done halo 15\n",
      "Doing halo 106 -number 16\n",
      "Done halo 16\n",
      "Doing halo 324 -number 17\n",
      "Done halo 17\n",
      "Doing halo 216 -number 18\n",
      "Done halo 18\n",
      "Doing halo 84 -number 19\n",
      "Done halo 19\n",
      "Doing halo 210 -number 20\n",
      "Done halo 20\n",
      "Doing halo 387 -number 21\n",
      "Done halo 21\n",
      "Doing halo 364 -number 22\n",
      "Done halo 22\n",
      "Doing halo 346 -number 23\n",
      "Done halo 23\n",
      "Doing halo 260 -number 24\n",
      "Done halo 24\n",
      "Doing halo 134 -number 25\n",
      "Done halo 25\n",
      "Doing halo 191 -number 26\n",
      "Done halo 26\n",
      "Doing halo 264 -number 27\n",
      "Done halo 27\n",
      "Doing halo 233 -number 28\n",
      "Done halo 28\n",
      "Doing halo 93 -number 29\n",
      "Done halo 29\n",
      "Doing halo 281 -number 30\n",
      "Done halo 30\n",
      "Doing halo 129 -number 31\n",
      "Done halo 31\n",
      "Doing halo 271 -number 32\n",
      "Done halo 32\n",
      "Doing halo 233 -number 33\n",
      "Done halo 33\n",
      "Doing halo 109 -number 34\n",
      "Done halo 34\n",
      "Doing halo 337 -number 35\n",
      "Done halo 35\n",
      "Doing halo 176 -number 36\n",
      "Done halo 36\n",
      "Doing halo 152 -number 37\n",
      "Done halo 37\n",
      "Doing halo 138 -number 38\n",
      "Done halo 38\n",
      "Doing halo 270 -number 39\n",
      "Done halo 39\n",
      "Doing halo 321 -number 40\n",
      "Done halo 40\n",
      "Doing halo 332 -number 41\n",
      "Done halo 41\n",
      "Doing halo 108 -number 42\n",
      "Done halo 42\n",
      "Doing halo 243 -number 43\n",
      "Done halo 43\n",
      "Doing halo 272 -number 44\n",
      "Done halo 44\n",
      "Doing halo 147 -number 45\n",
      "Done halo 45\n",
      "Doing halo 175 -number 46\n",
      "Done halo 46\n",
      "Doing halo 322 -number 47\n",
      "Done halo 47\n",
      "Doing halo 386 -number 48\n",
      "Done halo 48\n",
      "Doing halo 82 -number 49\n",
      "Done halo 49\n",
      "Doing halo 356 -number 50\n",
      "Done halo 50\n",
      "Doing halo 303 -number 51\n",
      "Done halo 51\n",
      "Doing halo 315 -number 52\n",
      "Done halo 52\n",
      "Doing halo 357 -number 53\n",
      "Done halo 53\n",
      "Doing halo 147 -number 54\n",
      "Done halo 54\n",
      "Doing halo 252 -number 55\n",
      "Done halo 55\n",
      "Doing halo 348 -number 56\n",
      "Done halo 56\n",
      "Doing halo 298 -number 57\n",
      "Done halo 57\n",
      "Doing halo 369 -number 58\n",
      "Done halo 58\n",
      "Doing halo 301 -number 59\n",
      "Done halo 59\n",
      "Doing halo 211 -number 60\n",
      "Done halo 60\n",
      "Doing halo 329 -number 61\n",
      "Done halo 61\n",
      "Doing halo 325 -number 62\n",
      "Done halo 62\n",
      "Doing halo 388 -number 63\n",
      "Done halo 63\n",
      "Doing halo 378 -number 64\n",
      "Done halo 64\n",
      "Doing halo 90 -number 65\n",
      "Done halo 65\n",
      "Doing halo 184 -number 66\n",
      "Done halo 66\n",
      "Doing halo 84 -number 67\n",
      "Done halo 67\n",
      "Doing halo 123 -number 68\n",
      "Done halo 68\n",
      "Doing halo 271 -number 69\n",
      "Done halo 69\n",
      "Doing halo 182 -number 70\n",
      "Done halo 70\n",
      "Doing halo 339 -number 71\n",
      "Done halo 71\n",
      "Doing halo 214 -number 72\n",
      "Done halo 72\n",
      "Doing halo 282 -number 73\n",
      "Done halo 73\n",
      "Doing halo 184 -number 74\n",
      "Done halo 74\n",
      "Doing halo 243 -number 75\n",
      "Done halo 75\n",
      "Doing halo 388 -number 76\n",
      "Done halo 76\n",
      "Doing halo 304 -number 77\n",
      "Done halo 77\n",
      "Doing halo 292 -number 78\n",
      "Done halo 78\n",
      "Doing halo 109 -number 79\n",
      "Done halo 79\n",
      "Doing halo 314 -number 80\n",
      "Done halo 80\n",
      "Doing halo 307 -number 81\n",
      "Done halo 81\n",
      "Doing halo 158 -number 82\n",
      "Done halo 82\n",
      "Doing halo 289 -number 83\n",
      "Done halo 83\n",
      "Doing halo 379 -number 84\n",
      "Done halo 84\n",
      "Doing halo 338 -number 85\n",
      "Done halo 85\n",
      "Doing halo 295 -number 86\n",
      "Done halo 86\n",
      "Doing halo 287 -number 87\n",
      "Done halo 87\n",
      "Doing halo 278 -number 88\n",
      "Done halo 88\n",
      "Doing halo 298 -number 89\n",
      "Done halo 89\n",
      "Doing halo 298 -number 90\n",
      "Done halo 90\n",
      "Doing halo 238 -number 91\n",
      "Done halo 91\n",
      "Doing halo 171 -number 92\n",
      "Done halo 92\n",
      "Doing halo 228 -number 93\n",
      "Done halo 93\n",
      "Doing halo 260 -number 94\n",
      "Done halo 94\n",
      "Doing halo 88 -number 95\n",
      "Done halo 95\n",
      "Doing halo 326 -number 96\n",
      "Done halo 96\n",
      "Doing halo 224 -number 97\n",
      "Done halo 97\n",
      "Doing halo 193 -number 98\n",
      "Done halo 98\n",
      "Doing halo 368 -number 99\n",
      "Done halo 99\n"
     ]
    }
   ],
   "source": [
    "halos = small_mass\n",
    "num_overdensities = 11\n",
    "\n",
    "overden_all_small = np.zeros((len(halos), num_overdensities))\n",
    "n_tot_all_EPS_small = np.zeros((len(halos), num_overdensities))\n",
    "n_tot_all_ellipsoidal_small = np.zeros((len(halos), num_overdensities))\n",
    "halo_mass_small = np.zeros((len(halos), ))\n",
    "\n",
    "for j in range(len(halos)):\n",
    "    halo_number = halos[j]\n",
    "    print(\"Doing halo \" + str(halo_number) + \" -number \" + str(j))\n",
    "    halo_mass_small[j] = \"%.3g\" % h[halo_number]['mass'].sum()\n",
    "    overden_first = 200\n",
    "\n",
    "    overden_all_small[j], n_tot_all_EPS_small[j], n_tot_all_ellipsoidal_small[j] = get_fraction_FPs_vs_overdensity(Fps_ids_EPS, \n",
    "                                                                                               Fps_ids_ellipsoidal, \n",
    "                                                                                               halo_number, overden_first, \n",
    "                                                                                               f=f, h=h, ids_all=ids_tested, \n",
    "                                                                                               num_overdensities = num_overdensities)\n",
    "    print(\"Done halo \" + str(j))"
   ]
  },
  {
   "cell_type": "code",
   "execution_count": 69,
   "metadata": {
    "collapsed": true
   },
   "outputs": [
    {
     "name": "stdout",
     "output_type": "stream",
     "text": [
      "Distributions are bimodal - mean is not a good measure!\n"
     ]
    },
    {
     "data": {
      "image/png": "[encoded data removed]",
      "text/plain": [
       "<matplotlib.figure.Figure at 0x131dd2048>"
      ]
     },
     "metadata": {},
     "output_type": "display_data"
    }
   ],
   "source": [
    "# median + mean curve\n",
    "median_EPS_small = np.median(n_tot_all_EPS_small, axis=0)\n",
    "median_ellipsoidal_small = np.median(n_tot_all_ellipsoidal_small, axis=0)\n",
    "\n",
    "mean_EPS_small = np.mean(n_tot_all_EPS_small, axis=0)\n",
    "mean_ellipsoidal_small = np.mean(n_tot_all_ellipsoidal_small, axis=0)\n",
    "\n",
    "ind_i = np.argsort(overden_all_small[0])[::-1]\n",
    "\n",
    "plt.figure(figsize=(8,6))\n",
    "plt.plot(overden_all_small[0, ind_i], median_EPS_small[ind_i], color=c[0], ls=\"-\", label=\"EPS\")\n",
    "plt.scatter(overden_all_small[0, ind_i], median_EPS_small[ind_i], color=c[0], s=20, marker=\"^\")\n",
    "plt.plot(overden_all_small[0, ind_i], mean_EPS_small[ind_i], color=c[0], ls=\"--\")\n",
    "plt.scatter(overden_all_small[0, ind_i], mean_EPS_small[ind_i], color=c[0], s=20, marker=\"^\")\n",
    "\n",
    "plt.plot(overden_all_small[0, ind_i], median_ellipsoidal_small[ind_i], color=c[1], label=\"ellipsoidal\")\n",
    "plt.scatter(overden_all_small[0, ind_i], median_ellipsoidal_small[ind_i], color=c[1], s=20)\n",
    "plt.plot(overden_all_small[0, ind_i], mean_ellipsoidal_small[ind_i], color=c[1], ls=\"--\")\n",
    "plt.scatter(overden_all_small[0, ind_i], mean_ellipsoidal_small[ind_i], color=c[1], s=20)\n",
    "\n",
    "plt.legend(loc=\"best\", fontsize=16)\n",
    "plt.xlabel(r\"$\\rho / \\rho_M$\")\n",
    "plt.ylabel(r\"$\\mathrm{\\bar{N}_{FPs}} / \\mathrm{N_{tot}}$\")\n",
    "# plt.ylabel(r\"$\\mathrm{N_{FPs}} / \\sum{\\mathrm{N_{FPs}}}$\")\n",
    "# plt.xscale(\"symlog\")\n",
    "plt.xscale(\"log\")\n",
    "\n",
    "plt.axvline(x=200, ls=\"--\", color=\"k\")\n",
    "plt.axvline(x=1, ls=\"--\", color=\"k\")\n",
    "plt.title(\"Mean(dashed) and median(solid) around small-mass halos\")\n",
    "\n",
    "print(\"Distributions are bimodal - mean is not a good measure!\")"
   ]
  },
  {
   "cell_type": "code",
   "execution_count": 146,
   "metadata": {
    "collapsed": false
   },
   "outputs": [],
   "source": [
    "num_bootstrap = 100000\n",
    "\n",
    "small_mean_bootstrap_EPS, small_median_bootstrap_EPS, small_mean_bootstrap_ellipsoidal, small_median_bootstrap_ellipsoidal = do_bootstrap_method(n_tot_all_EPS_small, n_tot_all_ellipsoidal_small, num_bootstrap)\n",
    "\n",
    "small_estimate_mean_EPS = np.sum(small_mean_bootstrap_EPS, axis=0)/num_bootstrap\n",
    "small_estimate_std_mean_EPS = np.std(small_mean_bootstrap_EPS, axis=0)\n",
    "\n",
    "small_estimate_median_EPS = np.sum(small_median_bootstrap_EPS, axis=0)/num_bootstrap\n",
    "small_estimate_std_median_EPS = np.std(small_median_bootstrap_EPS, axis=0)\n",
    "\n",
    "\n",
    "small_estimate_mean_ellips = np.sum(small_mean_bootstrap_ellipsoidal, axis=0)/num_bootstrap\n",
    "small_estimate_std_mean_ellips = np.std(small_mean_bootstrap_ellipsoidal, axis=0)\n",
    "\n",
    "small_estimate_median_ellips = np.sum(small_median_bootstrap_ellipsoidal, axis=0)/num_bootstrap\n",
    "small_estimate_std_median_ellips = np.std(small_median_bootstrap_ellipsoidal, axis=0)"
   ]
  },
  {
   "cell_type": "code",
   "execution_count": 147,
   "metadata": {
    "collapsed": false
   },
   "outputs": [
    {
     "data": {
      "image/png": "[encoded data removed]",
      "text/plain": [
       "<matplotlib.figure.Figure at 0x13e97cb38>"
      ]
     },
     "metadata": {},
     "output_type": "display_data"
    }
   ],
   "source": [
    "# RESULT AFTER BOOTSTRAP METHOD\n",
    "\n",
    "small_ind_i = np.argsort(overden_all_small[0])[::-1]\n",
    "\n",
    "plt.figure(figsize=(8,6))\n",
    "\n",
    "plt.errorbar(overden_all_small[0, small_ind_i], small_estimate_mean_EPS[small_ind_i], color=c[0], \n",
    "             yerr=small_estimate_std_mean_EPS[small_ind_i], ls=\"--\")\n",
    "plt.scatter(overden_all_small[0, small_ind_i], small_estimate_mean_EPS[small_ind_i], color=c[0], label=\"EPS\")\n",
    "\n",
    "plt.errorbar(overden_all_small[0, small_ind_i],small_estimate_median_EPS[small_ind_i], \n",
    "             yerr=small_estimate_std_median_EPS[small_ind_i], color=c[0])\n",
    "plt.scatter(overden_all_small[0, small_ind_i], small_estimate_median_EPS[small_ind_i], color=c[0])\n",
    "\n",
    "plt.errorbar(overden_all_small[0, small_ind_i], small_estimate_mean_ellips[small_ind_i], color=c[1], \n",
    "             yerr=small_estimate_std_mean_ellips[small_ind_i], ls=\"--\")\n",
    "plt.scatter(overden_all_small[0, small_ind_i], small_estimate_mean_ellips[small_ind_i], color=c[1], label=\"ellipsoidal\")\n",
    "\n",
    "plt.errorbar(overden_all_small[0, small_ind_i], small_estimate_median_ellips[small_ind_i], \n",
    "             yerr=small_estimate_std_median_ellips[small_ind_i], color=c[1])\n",
    "plt.scatter(overden_all_small[0, small_ind_i], small_estimate_median_ellips[small_ind_i], color=c[1])\n",
    "\n",
    "plt.legend(loc=\"best\", fontsize=16)\n",
    "plt.xlabel(r\"$\\rho / \\rho_M$\")\n",
    "plt.ylabel(r\"$\\mathrm{\\bar{N}_{FPs}} / \\mathrm{N_{tot}}$\")\n",
    "plt.xscale(\"log\")\n",
    "\n",
    "plt.axvline(x=200, ls=\"--\", color=\"k\")\n",
    "plt.axvline(x=1, ls=\"--\", color=\"k\")\n",
    "plt.title(\"Mean(dashed) and median(solid) - small mass halos\")\n",
    "\n",
    "plt.savefig(\"/Users/lls/Desktop/EPS_vs_ellipsoidal_small_mass_bootstrap.pdf\")"
   ]
  },
  {
   "cell_type": "code",
   "execution_count": null,
   "metadata": {
    "collapsed": true
   },
   "outputs": [],
   "source": [
    ""
   ]
  }
 ],
 "metadata": {
  "kernelspec": {
   "display_name": "Python 3",
   "language": "python",
   "name": "python3"
  },
  "language_info": {
   "codemirror_mode": {
    "name": "ipython",
    "version": 3.0
   },
   "file_extension": ".py",
   "mimetype": "text/x-python",
   "name": "python",
   "nbconvert_exporter": "python",
   "pygments_lexer": "ipython3",
   "version": "3.5.1"
  }
 },
 "nbformat": 4,
 "nbformat_minor": 0
}